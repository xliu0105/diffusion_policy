{
 "cells": [
  {
   "cell_type": "code",
   "execution_count": 1,
   "id": "0fee6eef-aca8-44ed-8c58-d6e9f8afc21e",
   "metadata": {},
   "outputs": [],
   "source": [
    "import zarr"
   ]
  },
  {
   "cell_type": "code",
   "execution_count": 4,
   "id": "3e636b23-c6ca-4d2f-b080-2ff839e71e05",
   "metadata": {},
   "outputs": [],
   "source": [
    "data = zarr.open('/home/liu_xu/liuxu_Documents/diffusion_policy/data/pusht/pusht_cchi_v7_replay.zarr',mode='r')"
   ]
  },
  {
   "cell_type": "code",
   "execution_count": 5,
   "id": "1680856d-2461-43e1-baa3-b02fea60af1b",
   "metadata": {},
   "outputs": [
    {
     "name": "stdout",
     "output_type": "stream",
     "text": [
      "/\n",
      " ├── data\n",
      " │   ├── action (25650, 2) float32\n",
      " │   ├── img (25650, 96, 96, 3) float32\n",
      " │   ├── keypoint (25650, 9, 2) float32\n",
      " │   ├── n_contacts (25650, 1) float32\n",
      " │   └── state (25650, 5) float32\n",
      " └── meta\n",
      "     └── episode_ends (206,) int64\n"
     ]
    }
   ],
   "source": [
    "print(data.tree())"
   ]
  }
 ],
 "metadata": {
  "kernelspec": {
   "display_name": "Python robodiff",
   "language": "python",
   "name": "robodiff"
  },
  "language_info": {
   "codemirror_mode": {
    "name": "ipython",
    "version": 3
   },
   "file_extension": ".py",
   "mimetype": "text/x-python",
   "name": "python",
   "nbconvert_exporter": "python",
   "pygments_lexer": "ipython3",
   "version": "3.9.18"
  }
 },
 "nbformat": 4,
 "nbformat_minor": 5
}
